{
 "cells": [
  {
   "cell_type": "markdown",
   "metadata": {},
   "source": [
    "RESOURCES\n",
    "\n",
    "https://python.langchain.com/v0.1/docs/use_cases/question_answering/quickstart/\n",
    "\n",
    "https://python.langchain.com/docs/tutorials/rag/\n",
    "\n",
    "https://scalexi.medium.com/implementing-a-retrieval-augmented-generation-rag-system-with-openais-api-using-langchain-ab39b60b4d9f\n"
   ]
  },
  {
   "cell_type": "code",
   "execution_count": 1,
   "metadata": {},
   "outputs": [],
   "source": [
    "## Imports\n",
    "import os\n",
    "from dotenv import load_dotenv\n",
    "\n",
    "from langchain.text_splitter import RecursiveCharacterTextSplitter\n",
    "from langchain_chroma import Chroma\n",
    "from langchain_openai import OpenAIEmbeddings\n",
    "from langchain_openai import ChatOpenAI\n",
    "from langchain_core.prompts import PromptTemplate\n",
    "from langchain_core.output_parsers import StrOutputParser\n",
    "from langchain_core.runnables import RunnablePassthrough"
   ]
  },
  {
   "cell_type": "markdown",
   "metadata": {},
   "source": [
    "Generate and save [Langchain API key](https://docs.smith.langchain.com/how_to_guides/setup/create_account_api_key) to `.env`. \n",
    "\n",
    "[LangSmith](https://www.langchain.com/langsmith) is a helpful monitoring tool developed by LangChain to trace the behavior of your application. This is particularly helpful when your application has RAG and history. "
   ]
  },
  {
   "cell_type": "code",
   "execution_count": 2,
   "metadata": {},
   "outputs": [],
   "source": [
    "## Setup the API keys\n",
    "load_dotenv()\n",
    "\n",
    "## If you want LangSmith to trace your runs, set this environmental variable\n",
    "#os.environ[\"LANGCHAIN_TRACING_V2\"] = \"true\"\n",
    "\n",
    "os.environ[\"LANGCHAIN_API_KEY\"] = os.getenv(\"LANGCHAIN_API_KEY\")\n",
    "os.environ[\"OPENAI_API_KEY\"] = os.getenv(\"OPENAI_API_KEY\")"
   ]
  },
  {
   "cell_type": "markdown",
   "metadata": {},
   "source": [
    "To provide context-rich data to the interior designer, I created a text repository comprising of fake expert data.\n",
    "I used ChatGPT to create the fake data.\n",
    "For easy handling, separate text files were created for different areas of the house."
   ]
  },
  {
   "cell_type": "code",
   "execution_count": 3,
   "metadata": {},
   "outputs": [],
   "source": [
    "## Function for reading text files containing information for RAG\n",
    "def read_txt_files_in_folder(folder_path):\n",
    "    all_texts = []\n",
    "    \n",
    "    for root, dirs, files in os.walk(folder_path):\n",
    "        for file in files:\n",
    "            if file.endswith('.txt'):\n",
    "                file_path = os.path.join(root, file)\n",
    "                with open(file_path, 'r', encoding='utf-8') as f:\n",
    "                    content = f.read()\n",
    "                    filtered_content = ''.join([char for char in content if char not in ['**','#','##','###']])\n",
    "                    all_texts.append(filtered_content)\n",
    "    \n",
    "    return all_texts"
   ]
  },
  {
   "cell_type": "code",
   "execution_count": 4,
   "metadata": {},
   "outputs": [],
   "source": [
    "## Reading the text files\n",
    "text = read_txt_files_in_folder('data/')"
   ]
  },
  {
   "cell_type": "code",
   "execution_count": 5,
   "metadata": {},
   "outputs": [],
   "source": [
    "# print(len(text))\n",
    "# print(len(text[0])) "
   ]
  },
  {
   "cell_type": "markdown",
   "metadata": {},
   "source": [
    "The text data should be split into manageable chunks that fit within the context window of the model.\n",
    "`RecursiveCharacterTextSplitter` recursively splits the text data into fragments using characters from the default list `[\"\\n\\n\", \"\\n\", \" \", \"\"]`, by finding the one that works. Chunks are created so that they are less than or equal in length to `chunk_size`.\n",
    "While there are several other text splitters, [this splitter](https://python.langchain.com/v0.1/docs/modules/data_connection/document_transformers/recursive_text_splitter/) works best for generic text. \n",
    "\n",
    "`create_documents` is a little confusing since we have already processed the text documents into an array of strings. This method takes the array of string data as input and returns a set of 'document' objects that contain the split chunks. "
   ]
  },
  {
   "cell_type": "code",
   "execution_count": 6,
   "metadata": {},
   "outputs": [],
   "source": [
    "text_splitter = RecursiveCharacterTextSplitter(\n",
    "    chunk_size=1000, \n",
    "    chunk_overlap=200, \n",
    "    add_start_index=True\n",
    ")\n",
    "\n",
    "## Converting text data into documents\n",
    "docs = text_splitter.create_documents(text)"
   ]
  },
  {
   "cell_type": "code",
   "execution_count": 7,
   "metadata": {},
   "outputs": [],
   "source": [
    "# print(len(docs))\n",
    "# print(docs[1])"
   ]
  },
  {
   "cell_type": "markdown",
   "metadata": {},
   "source": [
    "Now we have domain specific information, loaded from text files and processed into a format suitable for LangChain. For each user query, we should retrieve the appropriate snippets and provide them as context to the model. The RAG process is only as good as the retrieved snippets' relevance and quality. LangChain has [implementations](https://python.langchain.com/v0.2/docs/concepts/#retrieval) of multiple retrieval techniques that are suitable for different usecases.  \n",
    "\n",
    "Here, I use vector stores, one of the the simplest methods of retrieval. This is a beginner friendly method. Specifically, [Chroma](https://python.langchain.com/docs/integrations/vectorstores/chroma/) vector database was used to prepare the vector store. Here, unstructured text data is transformed into embeddings and during query phase, the query is converted to an embedding, the appropriate snippets are retrieved based on embedding similarity and an index corresponding to the relevant chunk is returned. Embeddings are computed using [OpenAI embedding models](https://python.langchain.com/docs/integrations/text_embedding/openai/).\n",
    "\n",
    "It is important to note that, in addition to the retrieval method, the size of the chunks and overlap used during text splitting play a key role on the effectiveness of RAG inputs."
   ]
  },
  {
   "cell_type": "code",
   "execution_count": 8,
   "metadata": {},
   "outputs": [],
   "source": [
    "vectorstore = Chroma.from_documents(documents=docs, embedding=OpenAIEmbeddings())\n",
    "retriever = vectorstore.as_retriever()"
   ]
  },
  {
   "cell_type": "markdown",
   "metadata": {},
   "source": [
    "The output of an LLM will be only as good as the prompt we give. [LangChain Hub](https://smith.langchain.com/hub) consists of pre-defined prompts for diverse usecases. created a prompt template based on `rag-prompt` from the Hub.   \n",
    "[PromptTemplate](https://python.langchain.com/v0.1/docs/modules/model_io/prompts/quick_start/) converts the string prompt to a LangChain prompt template. "
   ]
  },
  {
   "cell_type": "code",
   "execution_count": 9,
   "metadata": {},
   "outputs": [],
   "source": [
    "## Template based on hub.pull(\"rlm/rag-prompt\")\n",
    "template = \"\"\"Use the following pieces of context to answer the questions related to interior and exterior design of homes. Please respond without using double-quotation marks. \n",
    "If the question is not related to interior or exterior design, politely say that your are an assistant helping with interior and exterior design and tell the user to ask relavant questions, don't try to make up an answer.\n",
    "Use three sentences maximum and keep the answer as concise as possible.\n",
    "{context}\n",
    "\n",
    "Question: {question}\n",
    "\n",
    "Helpful Answer:\"\"\"\n",
    "\n",
    "custom_rag_prompt = PromptTemplate.from_template(template)"
   ]
  },
  {
   "cell_type": "code",
   "execution_count": 10,
   "metadata": {},
   "outputs": [],
   "source": [
    "# print(custom_rag_prompt)"
   ]
  },
  {
   "cell_type": "markdown",
   "metadata": {},
   "source": [
    "As the LLM, I use OpenAI's `gpt-4o` model through `ChatOpenAI` API of LangChain. To try other OpenAI models, you can simply update the `model_name` argument with a different model. Check [OpenAI Plaform](https://platform.openai.com/docs/models) for all available models. "
   ]
  },
  {
   "cell_type": "code",
   "execution_count": 11,
   "metadata": {},
   "outputs": [],
   "source": [
    "llm = ChatOpenAI(temperature=0.7, model_name=\"gpt-4o\")"
   ]
  },
  {
   "cell_type": "markdown",
   "metadata": {},
   "source": [
    "We have all the components required query our AI interior designer model. Now we create a chain that composes all the components and functions together. We use `RunnablePassthrough` to pass the user query into the prompt.     "
   ]
  },
  {
   "cell_type": "code",
   "execution_count": 12,
   "metadata": {},
   "outputs": [
    {
     "data": {
      "text/plain": [
       "'Consider using bold color schemes with deep hues like rich navy blues, forest greens, and charcoal grays for a model kitchen. These colors add depth and drama, making the kitchen a focal point. Balance these bold hues with lighter countertops or backsplashes for a harmonious look.'"
      ]
     },
     "execution_count": 12,
     "metadata": {},
     "output_type": "execute_result"
    }
   ],
   "source": [
    "def format_docs(docs):\n",
    "    return \"\\n\\n\".join(doc.page_content for doc in docs)\n",
    "\n",
    "rag_chain = (\n",
    "    {\"context\": retriever | format_docs, \"question\": RunnablePassthrough()}\n",
    "    | custom_rag_prompt\n",
    "    | llm\n",
    "    | StrOutputParser()\n",
    ")\n",
    "\n",
    "rag_chain.invoke(\"What color scheme should I use in a model kitchen?\") "
   ]
  },
  {
   "cell_type": "code",
   "execution_count": 13,
   "metadata": {},
   "outputs": [
    {
     "data": {
      "text/plain": [
       "'I am an assistant helping with interior and exterior design. Please ask questions related to those topics for relevant information.'"
      ]
     },
     "execution_count": 13,
     "metadata": {},
     "output_type": "execute_result"
    }
   ],
   "source": [
    "## Out of context question\n",
    "rag_chain.invoke(\"What is the capital of the United States?\") "
   ]
  },
  {
   "cell_type": "markdown",
   "metadata": {},
   "source": [
    "Adding history to the chat\n",
    "Here, I also experiment with LangChain's buil-in chain constructors to create chains.\n",
    "[Reference](https://python.langchain.com/docs/tutorials/qa_chat_history/) \n",
    "\n",
    "https://python.langchain.com/v0.1/docs/modules/chains/"
   ]
  },
  {
   "cell_type": "code",
   "execution_count": 14,
   "metadata": {},
   "outputs": [
    {
     "name": "stderr",
     "output_type": "stream",
     "text": [
      "USER_AGENT environment variable not set, consider setting it to identify your requests.\n"
     ]
    }
   ],
   "source": [
    "from langchain.chains import create_retrieval_chain, create_history_aware_retriever\n",
    "from langchain.chains.combine_documents import create_stuff_documents_chain\n",
    "from langchain_community.document_loaders import WebBaseLoader\n",
    "from langchain_core.prompts import ChatPromptTemplate, MessagesPlaceholder\n",
    "from langchain_core.vectorstores import InMemoryVectorStore\n",
    "from langchain_core.messages import AIMessage, HumanMessage, SystemMessage"
   ]
  },
  {
   "cell_type": "markdown",
   "metadata": {},
   "source": [
    "# RAG with buil-in chain constructors and without history\n",
    "\n",
    "Note that here I am using ChatPromptTemplate for creating the prompt. This is suitable for prompting chat models (that is, we have back-and-forth). We can input a list of chat messages and assign roles to the messages. [Learn more about prompt templates](https://python.langchain.com/v0.1/docs/modules/model_io/prompts/quick_start/)\n",
    "\n",
    "`create_stuff_documents_chain` create a chain for passing a list of Documents to a model. [link](https://python.langchain.com/api_reference/langchain/chains/langchain.chains.combine_documents.stuff.create_stuff_documents_chain.html)"
   ]
  },
  {
   "cell_type": "code",
   "execution_count": 15,
   "metadata": {},
   "outputs": [
    {
     "name": "stdout",
     "output_type": "stream",
     "text": [
      "Consider using serene earth tones and soft neutrals like warm beiges, soft taupes, and gentle greens to create a calming environment. These colors evoke a sense of peace and are ideal for a relaxing bathroom atmosphere. You can also mix in subtle accents with fixtures or accessories to add character.\n",
      "I don't know. Please ask questions related to interior or exterior design.\n"
     ]
    }
   ],
   "source": [
    "## Using ChatPromptTemplate\n",
    "system_prompt = (\"Use the following pieces of context to answer the questions related to interior and exterior design of homes.\" \n",
    "                 \"Please respond without using double-quotation marks.\" \n",
    "                 \"If the question is not related to interior or exterior design, politely say that you don't know and tell the user to ask relavant questions,\" \n",
    "                 \"don't try to make up an answer.\"\n",
    "                 \"Use three sentences maximum and keep the answer as concise as possible.\"\n",
    "                 \"\\n\\n\"\n",
    "                 \"{context}\")\n",
    "\n",
    "prompt = ChatPromptTemplate.from_messages(\n",
    "    [\n",
    "        (\"system\", system_prompt),\n",
    "        (\"human\",\"{input}\")\n",
    "    ]\n",
    ")\n",
    "\n",
    "## This chain passes a list of documents to the LLM\n",
    "qna_chain = create_stuff_documents_chain(llm, prompt)\n",
    "\n",
    "rag_chain = create_retrieval_chain(retriever, qna_chain)\n",
    "\n",
    "response = rag_chain.invoke({\"input\": \"What color scheme should I use in a bathroom?\"})\n",
    "print(response[\"answer\"])\n",
    "\n",
    "response = rag_chain.invoke({\"input\": \"What color dress should I wear to a party?\"})\n",
    "print(response[\"answer\"])"
   ]
  },
  {
   "cell_type": "markdown",
   "metadata": {},
   "source": [
    "# Adding chat history\n",
    "\n",
    "This part of the notebook closely follows this [tutorial](https://python.langchain.com/docs/tutorials/qa_chat_history/) from LangChain.\n",
    " \n",
    "When incorporating history, the retriever should retrieve documents based on current context and history. So, use another LLM call to create a prompt that incorporates current query and chat history to create the retriever.\n",
    "\n",
    "We must rephrase the input query to incorporate historical messages. We use a sub-chain to create a ['history aware'](https://python.langchain.com/docs/tutorials/qa_chat_history/#adding-chat-history) retriever which we then use with the LLM to get the response.\n",
    "\n",
    "[create_history_aware_retriever](https://python.langchain.com/api_reference/langchain/chains/langchain.chains.history_aware_retriever.create_history_aware_retriever.html) creates a chain that takes input and conversation history and returns documents.  "
   ]
  },
  {
   "cell_type": "code",
   "execution_count": 16,
   "metadata": {},
   "outputs": [],
   "source": [
    "## Creating a prompt by combining chat history and user query\n",
    "\n",
    "contextualize_q_system_prompt = (\n",
    "    \"Given a chat history and the latest user question \"\n",
    "    \"which might reference context in the chat history, \"\n",
    "    \"formulate a standalone question which can be understood \"\n",
    "    \"without the chat history. Do NOT answer the question, \"\n",
    "    \"just reformulate it if needed and otherwise return it as is.\"\n",
    ")\n",
    "\n",
    "contextualize_q_prompt = ChatPromptTemplate.from_messages(\n",
    "    [\n",
    "        (\"system\", contextualize_q_system_prompt),\n",
    "        MessagesPlaceholder(\"chat_history\"),\n",
    "        (\"human\", \"{input}\"),\n",
    "    ]\n",
    ")\n",
    "\n",
    "history_aware_retriever = create_history_aware_retriever(llm, retriever, contextualize_q_prompt)\n"
   ]
  },
  {
   "cell_type": "markdown",
   "metadata": {},
   "source": [
    "We generate the `question_answer_chain` again and build the final rag chain to apply the `history_aware_retriever` and `question_answer_chain` in sequence."
   ]
  },
  {
   "cell_type": "code",
   "execution_count": 17,
   "metadata": {},
   "outputs": [],
   "source": [
    "qa_prompt = ChatPromptTemplate.from_messages(\n",
    "    [\n",
    "        (\"system\", system_prompt),\n",
    "        MessagesPlaceholder(\"chat_history\"),\n",
    "        (\"human\", \"{input}\"),\n",
    "    ]\n",
    ")\n",
    "\n",
    "qna_chain = create_stuff_documents_chain(llm, qa_prompt)\n",
    "rag_chain = create_retrieval_chain(history_aware_retriever, qna_chain)"
   ]
  },
  {
   "cell_type": "markdown",
   "metadata": {},
   "source": [
    "Before invoking the chain, we must manage `\"chat_history\"`. This is maintained as a list.   "
   ]
  },
  {
   "cell_type": "code",
   "execution_count": 18,
   "metadata": {},
   "outputs": [
    {
     "name": "stdout",
     "output_type": "stream",
     "text": [
      "Consider embracing one of the 2024 living room design trends, such as earthy color palettes with natural tones for a warm atmosphere, or biophilic design with indoor greenery for a nature-inspired space. You could also mix modern and vintage styles for a unique, eclectic look, or personalize your space with art and decor that reflects your personality. Choose a theme that resonates with your style and meets your needs.\n",
      "\n",
      "What kind of furniture should I use for my living room?\n",
      "\n",
      "Opt for furniture made from recycled or reclaimed materials for sustainability, and consider incorporating curved furniture with soft shapes like rounded sofas and oval coffee tables for a more inviting feel. Also, multifunctional furniture, such as modular sofas or expandable tables, can adapt to different uses and complement an open-plan living space. These choices will help create a stylish and functional living room.\n"
     ]
    }
   ],
   "source": [
    "chat_history = []\n",
    "\n",
    "question = \"What kind of design theme should I use for my living room?\"\n",
    "ai_msg1 = rag_chain.invoke({\"input\": question, \"chat_history\": chat_history})\n",
    "chat_history.extend(\n",
    "    [\n",
    "        HumanMessage(content=question),\n",
    "        AIMessage(content=ai_msg1[\"answer\"]),\n",
    "    ]\n",
    ")\n",
    "\n",
    "print(ai_msg1[\"answer\"])\n",
    "print()\n",
    "\n",
    "question2 = \"What kind of furniture should I use there?\"\n",
    "\n",
    "## Checking the intermediate output of the rephrasing prompt step\n",
    "out_chain = (\n",
    "    contextualize_q_prompt\n",
    "    | llm\n",
    "    | StrOutputParser()\n",
    ")\n",
    "\n",
    "temp_out = out_chain.invoke({\"input\": question2, \"chat_history\": chat_history})\n",
    "\n",
    "print(temp_out)\n",
    "print()\n",
    "\n",
    "ai_msg2 = rag_chain.invoke({\"input\": question2, \"chat_history\": chat_history})\n",
    "\n",
    "print(ai_msg2[\"answer\"])"
   ]
  },
  {
   "cell_type": "markdown",
   "metadata": {},
   "source": [
    "We developed the logic for retaining chat history between messages. However, this is still very manual. We can wrap our chat model in a [LangGraph](https://langchain-ai.github.io/langgraph/) application to automatically persist the message history.   \n",
    "\n",
    "[Persistence](https://langchain-ai.github.io/langgraph/concepts/persistence/) layers are crucial when maintaining memory within chat applications. LangGraph has is own built-in persistence layer.  \n",
    "\n",
    "We should install LangGraph separately.\n",
    "\n",
    "`pip install -U langgraph`"
   ]
  },
  {
   "cell_type": "code",
   "execution_count": 19,
   "metadata": {},
   "outputs": [],
   "source": [
    "from typing import Sequence\n",
    "\n",
    "from langchain_core.messages import BaseMessage\n",
    "from langgraph.checkpoint.memory import MemorySaver\n",
    "from langgraph.graph import START, StateGraph\n",
    "from langgraph.graph.message import add_messages\n",
    "from typing_extensions import Annotated, TypedDict"
   ]
  },
  {
   "cell_type": "markdown",
   "metadata": {},
   "source": [
    "The dict `State` represents the state of the application. It has the same input and output keys as `rag_chain`."
   ]
  },
  {
   "cell_type": "code",
   "execution_count": 20,
   "metadata": {},
   "outputs": [],
   "source": [
    "class State(TypedDict):\n",
    "    input: str\n",
    "    chat_history: Annotated[Sequence[BaseMessage], add_messages]\n",
    "    context: str\n",
    "    answer: str"
   ]
  },
  {
   "cell_type": "markdown",
   "metadata": {},
   "source": [
    "Next we define the function (or node) that calls the model, in other words, runs the `rag_chain`.\n",
    "This function updates the graph state by updating the chat history with the input message and response."
   ]
  },
  {
   "cell_type": "code",
   "execution_count": 21,
   "metadata": {},
   "outputs": [],
   "source": [
    "def call_model(state: State):\n",
    "    response = rag_chain.invoke(state)\n",
    "\n",
    "    ## Invoking rag_chain outputs a model response and updates the state. So the function 'returns' \n",
    "    ## the new graph state.\n",
    "    return {\n",
    "        \"chat_history\": [\n",
    "            HumanMessage(state[\"input\"]),\n",
    "            AIMessage(response[\"answer\"]),\n",
    "        ],\n",
    "        \"context\":response[\"context\"],\n",
    "        \"answer\": response[\"answer\"],\n",
    "    }"
   ]
  },
  {
   "cell_type": "markdown",
   "metadata": {},
   "source": [
    "Now let's create the graph and compile it with a checkpointer object.\n",
    "We can choose where we would like to persist the state. In this case, we choose the memory."
   ]
  },
  {
   "cell_type": "code",
   "execution_count": 22,
   "metadata": {},
   "outputs": [],
   "source": [
    "workflow = StateGraph(state_schema=State)\n",
    "workflow.add_edge(START, \"model\")\n",
    "workflow.add_node(\"model\", call_model)\n",
    "\n",
    "## Compiling\n",
    "memory = MemorySaver()\n",
    "app = workflow.compile(checkpointer=memory)"
   ]
  },
  {
   "cell_type": "markdown",
   "metadata": {},
   "source": [
    "A chat application should handle interactions with multiple users.\n",
    "\n",
    "This application supports multiple conversations through multiple threads, where each thread has a unique indentifier."
   ]
  },
  {
   "cell_type": "code",
   "execution_count": 23,
   "metadata": {},
   "outputs": [
    {
     "name": "stdout",
     "output_type": "stream",
     "text": [
      "Consider using sustainable materials like reclaimed wood for an eco-friendly choice. Mixing natural wood with metal accents can create a stylish and contemporary vibe. Bamboo is also a renewable resource that offers durability and a modern look.\n"
     ]
    }
   ],
   "source": [
    "config = {\"configurable\": {\"thread_id\": \"abc123\"}}\n",
    "\n",
    "result = app.invoke(\n",
    "    {\"input\": \"What material should I use for kitchen cabinets?\"},\n",
    "    config = config,\n",
    ")\n",
    "\n",
    "print(result[\"answer\"])"
   ]
  },
  {
   "cell_type": "code",
   "execution_count": 24,
   "metadata": {},
   "outputs": [
    {
     "name": "stdout",
     "output_type": "stream",
     "text": [
      "Reclaimed woods are materials that have been previously used in buildings or products and are repurposed for new projects. They often come from old barns, factories, or warehouses, providing a rustic and environmentally friendly option. Using reclaimed wood adds character and history to home interiors.\n"
     ]
    }
   ],
   "source": [
    "result = app.invoke(\n",
    "    {\"input\": \"What are reclaimed woods?\"},\n",
    "    config = config,\n",
    ")\n",
    "\n",
    "print(result[\"answer\"])"
   ]
  },
  {
   "cell_type": "code",
   "execution_count": 25,
   "metadata": {},
   "outputs": [
    {
     "name": "stdout",
     "output_type": "stream",
     "text": [
      "Reclaimed woods are trendy because they offer sustainability, contributing to eco-friendly design by reducing the demand for new lumber. They also provide unique character and history, adding warmth and personality to spaces. Additionally, using reclaimed wood supports the trend of embracing natural materials and organic aesthetics in interior design.\n"
     ]
    }
   ],
   "source": [
    "result = app.invoke(\n",
    "    {\"input\": \"Why are they trendy?\"},\n",
    "    config = config,\n",
    ")\n",
    "\n",
    "print(result[\"answer\"])"
   ]
  },
  {
   "cell_type": "markdown",
   "metadata": {},
   "source": [
    "See what happens when I use a different thread ID."
   ]
  },
  {
   "cell_type": "code",
   "execution_count": 26,
   "metadata": {},
   "outputs": [
    {
     "name": "stdout",
     "output_type": "stream",
     "text": [
      "I don't know which specific trend you're referring to. Please provide more details or clarify your question related to interior or exterior design trends.\n"
     ]
    }
   ],
   "source": [
    "config2 = {\"configurable\": {\"thread_id\": \"abc456\"}}\n",
    "\n",
    "## Eventhough this has a different thread ID, sometimes we get an answer because RAG appends relevant context if there are relevant words in the questions.\n",
    "result = app.invoke(\n",
    "    {\"input\": \"Why are they trendy?\"},\n",
    "    config = config2,\n",
    ")\n",
    "\n",
    "print(result[\"answer\"])"
   ]
  },
  {
   "cell_type": "markdown",
   "metadata": {},
   "source": [
    "We can look at the chat history using `get_state` as shown below. \n",
    "\n",
    "The tutorial has an [illustration](https://python.langchain.com/docs/tutorials/qa_chat_history/#tying-it-together) that ties everything together and gives you the big picture of the application."
   ]
  },
  {
   "cell_type": "code",
   "execution_count": 27,
   "metadata": {},
   "outputs": [
    {
     "name": "stdout",
     "output_type": "stream",
     "text": [
      "================================\u001b[1m Human Message \u001b[0m=================================\n",
      "\n",
      "What material should I use for kitchen cabinets?\n",
      "==================================\u001b[1m Ai Message \u001b[0m==================================\n",
      "\n",
      "Consider using sustainable materials like reclaimed wood for an eco-friendly choice. Mixing natural wood with metal accents can create a stylish and contemporary vibe. Bamboo is also a renewable resource that offers durability and a modern look.\n",
      "================================\u001b[1m Human Message \u001b[0m=================================\n",
      "\n",
      "What are reclaimed woods?\n",
      "==================================\u001b[1m Ai Message \u001b[0m==================================\n",
      "\n",
      "Reclaimed woods are materials that have been previously used in buildings or products and are repurposed for new projects. They often come from old barns, factories, or warehouses, providing a rustic and environmentally friendly option. Using reclaimed wood adds character and history to home interiors.\n",
      "================================\u001b[1m Human Message \u001b[0m=================================\n",
      "\n",
      "Why are they trendy?\n",
      "==================================\u001b[1m Ai Message \u001b[0m==================================\n",
      "\n",
      "Reclaimed woods are trendy because they offer sustainability, contributing to eco-friendly design by reducing the demand for new lumber. They also provide unique character and history, adding warmth and personality to spaces. Additionally, using reclaimed wood supports the trend of embracing natural materials and organic aesthetics in interior design.\n"
     ]
    }
   ],
   "source": [
    "chat_history = app.get_state(config).values[\"chat_history\"]\n",
    "for message in chat_history:\n",
    "    message.pretty_print()"
   ]
  },
  {
   "cell_type": "markdown",
   "metadata": {},
   "source": [
    "LangChain also allows us to leverage [agents](https://python.langchain.com/docs/concepts/agents/) for managing history in a chat application. \n",
    "\n",
    "Agents use LLM-based reasoning to determine which actions to take and the required inputs to perform the action. So, agents can be less predictable compared to chains. However, agents allow us to offload some of the contextualization steps when building retrievers. "
   ]
  },
  {
   "cell_type": "code",
   "execution_count": 28,
   "metadata": {},
   "outputs": [],
   "source": [
    "from langchain.tools.retriever import create_retriever_tool\n",
    "from langgraph.prebuilt import create_react_agent"
   ]
  },
  {
   "cell_type": "markdown",
   "metadata": {},
   "source": [
    "[`create_retriever_tool`](https://python.langchain.com/api_reference/core/tools/langchain_core.tools.retriever.create_retriever_tool.html#langchain_core.tools.retriever.create_retriever_tool) return a tool that retrieves the relevant snippets from the expert data as documents. In other words, upon receiving a query, it invokes the retriever to retrieve relevant context.  "
   ]
  },
  {
   "cell_type": "code",
   "execution_count": 29,
   "metadata": {},
   "outputs": [],
   "source": [
    "tool = create_retriever_tool(\n",
    "    retriever,\n",
    "    \"document_retriever\",\n",
    "    \"Searches and returns documents containing information about interior and exterior design\"\n",
    ")\n",
    "\n",
    "tools = [tool]"
   ]
  },
  {
   "cell_type": "code",
   "execution_count": 30,
   "metadata": {},
   "outputs": [
    {
     "data": {
      "text/plain": [
       "'**Pro Tip:**\\nConsider a mix of vintage and modern elements. Pair reclaimed wood shelves with sleek, energy-efficient appliances for a balanced look.\\n\\n 2. **Bold Color Schemes with Deep Hues**\\n\\nGone are the days of all-white kitchens. **This year, deep and bold colors are making a statement.** Think rich navy blues, forest greens, and charcoal grays. These colors bring depth and drama to the kitchen, making it a focal point of the home.\\n\\n **Pro Tip:**\\nBalance bold hues with lighter countertops or backsplashes. Adding brass or gold fixtures can enhance the luxurious feel.\\n\\n 3. **Smart Kitchens with Seamless Technology**\\n\\nTechnology continues to revolutionize our homes, and **the kitchen is no exception.** Smart appliances, from fridges that track your groceries to faucets that measure water usage, are becoming standard. Integration is key, with appliances that blend seamlessly into the design rather than standing out.\\n\\n**Pro Tip:**\\nMix materials within your cabinetry, like pairing natural wood with metal accents for a contemporary yet warm kitchen vibe.\\n\\n 6. **Open Shelving with a Personal Touch**\\n\\nWhile practicality is still key, **open shelving is more about style in 2024.** Displaying curated collections, from artisan ceramics to cookbooks, turns your kitchen into a personalized space. This trend leans toward a more lived-in, cozy atmosphere.\\n\\n **Pro Tip:**\\nUse open shelves to showcase your personality. Mix functional items like plates and bowls with decorative pieces like plants or artwork.\\n\\n 7. **Statement Lighting as the Centerpiece**\\n\\nLighting in 2024 is as much about art as it is about function. **Statement pendant lights and chandeliers are becoming focal points** in kitchen design. Look for fixtures with unique shapes, mixed materials, and even custom designs that reflect the overall style of your kitchen.\\n\\n**Pro Tip:**\\nConsider hidden charging stations and voice-activated lighting for a truly modern kitchen experience.\\n\\n 4. **Curved Lines and Soft Edges**\\n\\n2024 sees a move away from harsh, straight lines in favor of **softer, curved shapes.** From rounded islands to oval tables, these elements add a sense of flow and tranquility to the kitchen. Curved cabinetry and counters are particularly popular, offering a welcoming and ergonomic design.\\n\\n **Pro Tip:**\\nIncorporate curved pendant lights or rounded bar stools to echo the trend without committing to major structural changes.\\n\\n 5. **Textured Surfaces and Mixed Materials**\\n\\n**Texture is the new focal point** in kitchen design. Combining different materials, like matte and gloss finishes or stone and wood, creates visual interest and depth. Expect to see a lot of textured backsplashes, such as subway tiles with a handcrafted feel or three-dimensional wall panels.\\n\\n**Pro Tip:**\\nKeep countertops clear, but don’t be afraid to add a pop of color with small appliances or decorative items.\\n\\n 10. **Nature-Inspired Elements**\\n\\nBringing the outdoors in is a theme that continues to gain traction. **Nature-inspired elements like stone countertops, wooden cabinetry, and indoor herb gardens** are prominent in 2024 kitchen designs. These elements add warmth and make the kitchen feel like a natural extension of the home’s surroundings.\\n\\n **Pro Tip:**\\nIncorporate large windows or glass doors to maximize natural light and connect the kitchen with outdoor spaces.\\n\\n---\\n\\n **Ready to Redesign Your Kitchen?**\\n\\nWith these 2024 kitchen trends, your space will not only be up-to-date but also a reflection of your personal style. Whether you embrace one trend or combine several, the key is to create a kitchen that feels both timeless and modern. Happy designing!\\n\\n---'"
      ]
     },
     "execution_count": 30,
     "metadata": {},
     "output_type": "execute_result"
    }
   ],
   "source": [
    "tool.invoke(\"Kitchen cabinets\")"
   ]
  },
  {
   "cell_type": "markdown",
   "metadata": {},
   "source": [
    "We use LangGraph to build the agent.\n",
    "\n",
    "LangGraph provides [pre-built](https://langchain-ai.github.io/langgraph/reference/prebuilt/) agents as well as helps build highly customizable agents."
   ]
  },
  {
   "cell_type": "markdown",
   "metadata": {},
   "source": [
    "[`create_react_agent`](https://langchain-ai.github.io/langgraph/reference/prebuilt/#langgraph.prebuilt.chat_agent_executor.create_react_agent) returns a compiled LangChain runnable in the form of a graph."
   ]
  },
  {
   "cell_type": "code",
   "execution_count": 31,
   "metadata": {},
   "outputs": [],
   "source": [
    "agent_executor = create_react_agent(llm, tools)"
   ]
  },
  {
   "cell_type": "markdown",
   "metadata": {},
   "source": [
    "Now we execute the created agent.\n",
    "Note that the output generated by the agent is less predictable since it uses LLMs. Different runs can result in different outputs.\n",
    "Also, in some cases, the agent might not run the `tools` at all. Then the model will not use the context data to answer the questions."
   ]
  },
  {
   "cell_type": "code",
   "execution_count": 32,
   "metadata": {},
   "outputs": [
    {
     "name": "stdout",
     "output_type": "stream",
     "text": [
      "================================\u001b[1m Human Message \u001b[0m=================================\n",
      "\n",
      "What material should I use for kitchen cabinets?\n",
      "==================================\u001b[1m Ai Message \u001b[0m==================================\n",
      "Tool Calls:\n",
      "  document_retriever (call_fqvPXtqg96zFSDNClhXbgPuT)\n",
      " Call ID: call_fqvPXtqg96zFSDNClhXbgPuT\n",
      "  Args:\n",
      "    query: best material for kitchen cabinets\n",
      "=================================\u001b[1m Tool Message \u001b[0m=================================\n",
      "Name: document_retriever\n",
      "\n",
      "Here’s a draft for a webpage offering 2024 kitchen interior design trends, similar to the content you referred to:\n",
      "\n",
      "---\n",
      "\n",
      " 2024 Kitchen Interior Design Trends: Fresh Ideas to Transform Your Space\n",
      "\n",
      "Welcome to our exclusive roundup of the top kitchen design trends for 2024. Whether you're planning a full renovation or just looking to refresh your space, these trends will inspire and guide you toward creating a stylish and functional kitchen. Let’s dive into what’s hot this year!\n",
      "\n",
      " 1. **Sustainable Materials and Eco-Friendly Choices**\n",
      "\n",
      "**2024 is all about sustainability.** From reclaimed wood cabinetry to recycled glass countertops, eco-friendly materials are taking center stage. Designers are focusing on creating kitchens that not only look good but also reduce environmental impact. Expect to see more kitchens featuring bamboo, cork, and other renewable resources.\n",
      "\n",
      "**Pro Tip:**\n",
      "Consider hidden charging stations and voice-activated lighting for a truly modern kitchen experience.\n",
      "\n",
      " 4. **Curved Lines and Soft Edges**\n",
      "\n",
      "2024 sees a move away from harsh, straight lines in favor of **softer, curved shapes.** From rounded islands to oval tables, these elements add a sense of flow and tranquility to the kitchen. Curved cabinetry and counters are particularly popular, offering a welcoming and ergonomic design.\n",
      "\n",
      " **Pro Tip:**\n",
      "Incorporate curved pendant lights or rounded bar stools to echo the trend without committing to major structural changes.\n",
      "\n",
      " 5. **Textured Surfaces and Mixed Materials**\n",
      "\n",
      "**Texture is the new focal point** in kitchen design. Combining different materials, like matte and gloss finishes or stone and wood, creates visual interest and depth. Expect to see a lot of textured backsplashes, such as subway tiles with a handcrafted feel or three-dimensional wall panels.\n",
      "\n",
      "**Pro Tip:**\n",
      "Consider a mix of vintage and modern elements. Pair reclaimed wood shelves with sleek, energy-efficient appliances for a balanced look.\n",
      "\n",
      " 2. **Bold Color Schemes with Deep Hues**\n",
      "\n",
      "Gone are the days of all-white kitchens. **This year, deep and bold colors are making a statement.** Think rich navy blues, forest greens, and charcoal grays. These colors bring depth and drama to the kitchen, making it a focal point of the home.\n",
      "\n",
      " **Pro Tip:**\n",
      "Balance bold hues with lighter countertops or backsplashes. Adding brass or gold fixtures can enhance the luxurious feel.\n",
      "\n",
      " 3. **Smart Kitchens with Seamless Technology**\n",
      "\n",
      "Technology continues to revolutionize our homes, and **the kitchen is no exception.** Smart appliances, from fridges that track your groceries to faucets that measure water usage, are becoming standard. Integration is key, with appliances that blend seamlessly into the design rather than standing out.\n",
      "\n",
      "**Pro Tip:**\n",
      "Mix materials within your cabinetry, like pairing natural wood with metal accents for a contemporary yet warm kitchen vibe.\n",
      "\n",
      " 6. **Open Shelving with a Personal Touch**\n",
      "\n",
      "While practicality is still key, **open shelving is more about style in 2024.** Displaying curated collections, from artisan ceramics to cookbooks, turns your kitchen into a personalized space. This trend leans toward a more lived-in, cozy atmosphere.\n",
      "\n",
      " **Pro Tip:**\n",
      "Use open shelves to showcase your personality. Mix functional items like plates and bowls with decorative pieces like plants or artwork.\n",
      "\n",
      " 7. **Statement Lighting as the Centerpiece**\n",
      "\n",
      "Lighting in 2024 is as much about art as it is about function. **Statement pendant lights and chandeliers are becoming focal points** in kitchen design. Look for fixtures with unique shapes, mixed materials, and even custom designs that reflect the overall style of your kitchen.\n",
      "==================================\u001b[1m Ai Message \u001b[0m==================================\n",
      "\n",
      "When choosing materials for kitchen cabinets, consider the following options:\n",
      "\n",
      "1. **Reclaimed Wood**: Offers a sustainable and eco-friendly choice, adding warmth and character to your kitchen.\n",
      "   \n",
      "2. **Bamboo**: A renewable resource that's durable and has a unique look, perfect for eco-conscious homeowners.\n",
      "\n",
      "3. **Cork**: Another eco-friendly material that is also soft and warm to the touch, providing a distinctive style.\n",
      "\n",
      "4. **Mixed Materials**: Combining different textures like matte and gloss finishes or mixing stone with wood can create visual interest and depth.\n",
      "\n",
      "These materials not only enhance the aesthetic appeal of your kitchen but also contribute to sustainability.\n"
     ]
    }
   ],
   "source": [
    "query = \"What material should I use for kitchen cabinets?\"\n",
    "\n",
    "for event in agent_executor.stream(\n",
    "    {\"messages\": [HumanMessage(content=query)]},\n",
    "    stream_mode=\"values\",\n",
    "):\n",
    "    event[\"messages\"][-1].pretty_print()\n"
   ]
  },
  {
   "cell_type": "markdown",
   "metadata": {},
   "source": [
    "Now we add history management to our agentic application using LangGraph."
   ]
  },
  {
   "cell_type": "code",
   "execution_count": 33,
   "metadata": {},
   "outputs": [],
   "source": [
    "memory = MemorySaver()\n",
    "\n",
    "sys_msg = \"Use the output from tools to answer questions related to interior and exterior design of homes. \\\n",
    "        If the question is not related to interior or exterior design, politely say that you don't know and ask the user to ask relavant questions, \\\n",
    "            don't try to make up an answer. \\\n",
    "                Use three sentences maximum and keep the answer as concise as possible.\"\n",
    "\n",
    "agent_executor = create_react_agent(llm, tools, checkpointer=memory, state_modifier=SystemMessage(content=sys_msg)) #"
   ]
  },
  {
   "cell_type": "code",
   "execution_count": 34,
   "metadata": {},
   "outputs": [
    {
     "name": "stdout",
     "output_type": "stream",
     "text": [
      "================================\u001b[1m Human Message \u001b[0m=================================\n",
      "\n",
      "What material should I use for kitchen cabinets?\n",
      "==================================\u001b[1m Ai Message \u001b[0m==================================\n",
      "Tool Calls:\n",
      "  document_retriever (call_4cTXVXqvZ1lCPF9e3m5CGW2H)\n",
      " Call ID: call_4cTXVXqvZ1lCPF9e3m5CGW2H\n",
      "  Args:\n",
      "    query: best materials for kitchen cabinets\n",
      "=================================\u001b[1m Tool Message \u001b[0m=================================\n",
      "Name: document_retriever\n",
      "\n",
      "**Pro Tip:**\n",
      "Consider a mix of vintage and modern elements. Pair reclaimed wood shelves with sleek, energy-efficient appliances for a balanced look.\n",
      "\n",
      " 2. **Bold Color Schemes with Deep Hues**\n",
      "\n",
      "Gone are the days of all-white kitchens. **This year, deep and bold colors are making a statement.** Think rich navy blues, forest greens, and charcoal grays. These colors bring depth and drama to the kitchen, making it a focal point of the home.\n",
      "\n",
      " **Pro Tip:**\n",
      "Balance bold hues with lighter countertops or backsplashes. Adding brass or gold fixtures can enhance the luxurious feel.\n",
      "\n",
      " 3. **Smart Kitchens with Seamless Technology**\n",
      "\n",
      "Technology continues to revolutionize our homes, and **the kitchen is no exception.** Smart appliances, from fridges that track your groceries to faucets that measure water usage, are becoming standard. Integration is key, with appliances that blend seamlessly into the design rather than standing out.\n",
      "\n",
      "Here’s a draft for a webpage offering 2024 kitchen interior design trends, similar to the content you referred to:\n",
      "\n",
      "---\n",
      "\n",
      " 2024 Kitchen Interior Design Trends: Fresh Ideas to Transform Your Space\n",
      "\n",
      "Welcome to our exclusive roundup of the top kitchen design trends for 2024. Whether you're planning a full renovation or just looking to refresh your space, these trends will inspire and guide you toward creating a stylish and functional kitchen. Let’s dive into what’s hot this year!\n",
      "\n",
      " 1. **Sustainable Materials and Eco-Friendly Choices**\n",
      "\n",
      "**2024 is all about sustainability.** From reclaimed wood cabinetry to recycled glass countertops, eco-friendly materials are taking center stage. Designers are focusing on creating kitchens that not only look good but also reduce environmental impact. Expect to see more kitchens featuring bamboo, cork, and other renewable resources.\n",
      "\n",
      "**Pro Tip:**\n",
      "Consider hidden charging stations and voice-activated lighting for a truly modern kitchen experience.\n",
      "\n",
      " 4. **Curved Lines and Soft Edges**\n",
      "\n",
      "2024 sees a move away from harsh, straight lines in favor of **softer, curved shapes.** From rounded islands to oval tables, these elements add a sense of flow and tranquility to the kitchen. Curved cabinetry and counters are particularly popular, offering a welcoming and ergonomic design.\n",
      "\n",
      " **Pro Tip:**\n",
      "Incorporate curved pendant lights or rounded bar stools to echo the trend without committing to major structural changes.\n",
      "\n",
      " 5. **Textured Surfaces and Mixed Materials**\n",
      "\n",
      "**Texture is the new focal point** in kitchen design. Combining different materials, like matte and gloss finishes or stone and wood, creates visual interest and depth. Expect to see a lot of textured backsplashes, such as subway tiles with a handcrafted feel or three-dimensional wall panels.\n",
      "\n",
      "**Pro Tip:**\n",
      "Mix materials within your cabinetry, like pairing natural wood with metal accents for a contemporary yet warm kitchen vibe.\n",
      "\n",
      " 6. **Open Shelving with a Personal Touch**\n",
      "\n",
      "While practicality is still key, **open shelving is more about style in 2024.** Displaying curated collections, from artisan ceramics to cookbooks, turns your kitchen into a personalized space. This trend leans toward a more lived-in, cozy atmosphere.\n",
      "\n",
      " **Pro Tip:**\n",
      "Use open shelves to showcase your personality. Mix functional items like plates and bowls with decorative pieces like plants or artwork.\n",
      "\n",
      " 7. **Statement Lighting as the Centerpiece**\n",
      "\n",
      "Lighting in 2024 is as much about art as it is about function. **Statement pendant lights and chandeliers are becoming focal points** in kitchen design. Look for fixtures with unique shapes, mixed materials, and even custom designs that reflect the overall style of your kitchen.\n",
      "==================================\u001b[1m Ai Message \u001b[0m==================================\n",
      "\n",
      "For kitchen cabinets, consider using sustainable materials like reclaimed wood, bamboo, or cork, which are eco-friendly and popular in 2024. Mixing materials such as natural wood with metal accents can create a contemporary yet warm vibe. Additionally, textured surfaces and curved cabinetry are trending, offering both visual interest and ergonomic design.\n"
     ]
    }
   ],
   "source": [
    "config = {\"configurable\": {\"thread_id\": \"def123\"}}\n",
    "\n",
    "query = \"What material should I use for kitchen cabinets?\"\n",
    "\n",
    "for event in agent_executor.stream( \n",
    "\n",
    "    {\"messages\": [HumanMessage(content=query)]},\n",
    "    config = config,\n",
    "    stream_mode = \"values\",\n",
    "):\n",
    "    event[\"messages\"][-1].pretty_print()"
   ]
  },
  {
   "cell_type": "markdown",
   "metadata": {},
   "source": [
    "Note how in the above output, the agent rephrased the question \"What material should I use for kitchen cabinets?\" into \"best materials for kitchen cabinets\". It removed unnecessary words and phrases like \"what\" and \"shoud I use\". \n",
    "\n",
    "Similarly, the agent rephrases the question using the conversation history for the next query as shown below. The agent was able to infer what \"they\" refers to and generated a useful query to the LLM."
   ]
  },
  {
   "cell_type": "code",
   "execution_count": 35,
   "metadata": {},
   "outputs": [
    {
     "name": "stdout",
     "output_type": "stream",
     "text": [
      "================================\u001b[1m Human Message \u001b[0m=================================\n",
      "\n",
      "Why are they trendy?\n",
      "==================================\u001b[1m Ai Message \u001b[0m==================================\n",
      "Tool Calls:\n",
      "  document_retriever (call_DwCKtLzvR5Q96TZkFBkBnsmY)\n",
      " Call ID: call_DwCKtLzvR5Q96TZkFBkBnsmY\n",
      "  Args:\n",
      "    query: reasons for trendiness of sustainable materials in kitchen design 2024\n",
      "=================================\u001b[1m Tool Message \u001b[0m=================================\n",
      "Name: document_retriever\n",
      "\n",
      "Here’s a draft for a webpage offering 2024 kitchen interior design trends, similar to the content you referred to:\n",
      "\n",
      "---\n",
      "\n",
      " 2024 Kitchen Interior Design Trends: Fresh Ideas to Transform Your Space\n",
      "\n",
      "Welcome to our exclusive roundup of the top kitchen design trends for 2024. Whether you're planning a full renovation or just looking to refresh your space, these trends will inspire and guide you toward creating a stylish and functional kitchen. Let’s dive into what’s hot this year!\n",
      "\n",
      " 1. **Sustainable Materials and Eco-Friendly Choices**\n",
      "\n",
      "**2024 is all about sustainability.** From reclaimed wood cabinetry to recycled glass countertops, eco-friendly materials are taking center stage. Designers are focusing on creating kitchens that not only look good but also reduce environmental impact. Expect to see more kitchens featuring bamboo, cork, and other renewable resources.\n",
      "\n",
      "**Pro Tip:**\n",
      "Keep countertops clear, but don’t be afraid to add a pop of color with small appliances or decorative items.\n",
      "\n",
      " 10. **Nature-Inspired Elements**\n",
      "\n",
      "Bringing the outdoors in is a theme that continues to gain traction. **Nature-inspired elements like stone countertops, wooden cabinetry, and indoor herb gardens** are prominent in 2024 kitchen designs. These elements add warmth and make the kitchen feel like a natural extension of the home’s surroundings.\n",
      "\n",
      " **Pro Tip:**\n",
      "Incorporate large windows or glass doors to maximize natural light and connect the kitchen with outdoor spaces.\n",
      "\n",
      "---\n",
      "\n",
      " **Ready to Redesign Your Kitchen?**\n",
      "\n",
      "With these 2024 kitchen trends, your space will not only be up-to-date but also a reflection of your personal style. Whether you embrace one trend or combine several, the key is to create a kitchen that feels both timeless and modern. Happy designing!\n",
      "\n",
      "---\n",
      "\n",
      "**Pro Tip:**\n",
      "Consider hidden charging stations and voice-activated lighting for a truly modern kitchen experience.\n",
      "\n",
      " 4. **Curved Lines and Soft Edges**\n",
      "\n",
      "2024 sees a move away from harsh, straight lines in favor of **softer, curved shapes.** From rounded islands to oval tables, these elements add a sense of flow and tranquility to the kitchen. Curved cabinetry and counters are particularly popular, offering a welcoming and ergonomic design.\n",
      "\n",
      " **Pro Tip:**\n",
      "Incorporate curved pendant lights or rounded bar stools to echo the trend without committing to major structural changes.\n",
      "\n",
      " 5. **Textured Surfaces and Mixed Materials**\n",
      "\n",
      "**Texture is the new focal point** in kitchen design. Combining different materials, like matte and gloss finishes or stone and wood, creates visual interest and depth. Expect to see a lot of textured backsplashes, such as subway tiles with a handcrafted feel or three-dimensional wall panels.\n",
      "\n",
      "**Pro Tip:**\n",
      "Mix materials within your cabinetry, like pairing natural wood with metal accents for a contemporary yet warm kitchen vibe.\n",
      "\n",
      " 6. **Open Shelving with a Personal Touch**\n",
      "\n",
      "While practicality is still key, **open shelving is more about style in 2024.** Displaying curated collections, from artisan ceramics to cookbooks, turns your kitchen into a personalized space. This trend leans toward a more lived-in, cozy atmosphere.\n",
      "\n",
      " **Pro Tip:**\n",
      "Use open shelves to showcase your personality. Mix functional items like plates and bowls with decorative pieces like plants or artwork.\n",
      "\n",
      " 7. **Statement Lighting as the Centerpiece**\n",
      "\n",
      "Lighting in 2024 is as much about art as it is about function. **Statement pendant lights and chandeliers are becoming focal points** in kitchen design. Look for fixtures with unique shapes, mixed materials, and even custom designs that reflect the overall style of your kitchen.\n",
      "==================================\u001b[1m Ai Message \u001b[0m==================================\n",
      "\n",
      "Sustainable materials are trendy in 2024 because they align with the growing emphasis on eco-friendly choices, appealing to environmentally conscious consumers. These materials reduce environmental impact while offering aesthetic appeal, blending nature-inspired elements like stone and wood. Additionally, incorporating such elements creates a warm, inviting space that connects the kitchen to the natural world.\n"
     ]
    }
   ],
   "source": [
    "query = \"Why are they trendy?\"\n",
    "\n",
    "for event in agent_executor.stream( \n",
    "\n",
    "    {\"messages\": [HumanMessage(content=query)]},\n",
    "    config = config,\n",
    "    stream_mode = \"values\",\n",
    "):\n",
    "    event[\"messages\"][-1].pretty_print()"
   ]
  }
 ],
 "metadata": {
  "kernelspec": {
   "display_name": ".venv",
   "language": "python",
   "name": "python3"
  },
  "language_info": {
   "codemirror_mode": {
    "name": "ipython",
    "version": 3
   },
   "file_extension": ".py",
   "mimetype": "text/x-python",
   "name": "python",
   "nbconvert_exporter": "python",
   "pygments_lexer": "ipython3",
   "version": "3.12.1"
  }
 },
 "nbformat": 4,
 "nbformat_minor": 2
}
